{
  "metadata": {
    "kernelspec": {
      "name": "python",
      "display_name": "Pyolite",
      "language": "python"
    },
    "language_info": {
      "codemirror_mode": {
        "name": "python",
        "version": 3
      },
      "file_extension": ".py",
      "mimetype": "text/x-python",
      "name": "python",
      "nbconvert_exporter": "python",
      "pygments_lexer": "ipython3",
      "version": "3.8"
    },
    "varInspector": {
      "cols": {
        "lenName": 16,
        "lenType": 16,
        "lenVar": 40
      },
      "kernels_config": {
        "python": {
          "delete_cmd_postfix": "",
          "delete_cmd_prefix": "del ",
          "library": "var_list.py",
          "varRefreshCmd": "print(var_dic_list())"
        },
        "r": {
          "delete_cmd_postfix": ") ",
          "delete_cmd_prefix": "rm(",
          "library": "var_list.r",
          "varRefreshCmd": "cat(var_dic_list()) "
        }
      },
      "types_to_exclude": [
        "module",
        "function",
        "builtin_function_or_method",
        "instance",
        "_Feature"
      ],
      "window_display": false
    }
  },
  "nbformat_minor": 5,
  "nbformat": 4,
  "cells": [
    {
      "cell_type": "markdown",
      "source": "# Лабораторна робота \"Операції над масивами NumPy\"\n\n__Метою__ лабораторної роботи є набуття практичних навичок та закріплення теоретичних знань по обробці великих однорідних наборів даних які розташовані у вигляді масивів бібліотеки __NumPy__.\n\nВиконати послідовно завдання в секціях, попередню засвоївши наведені приклади\nВ завданнях продовжити написання коду замість `...`. \n\n__Імена змінних в завданнях змінювати не можна!__",
      "metadata": {},
      "id": "37f7333b"
    },
    {
      "cell_type": "markdown",
      "source": "### Предвстановлення",
      "metadata": {
        "heading_collapsed": true
      },
      "id": "cff5adf7"
    },
    {
      "cell_type": "code",
      "source": "# Імпортувати бібліотеку numpy з аліасом np\nimport numpy as np",
      "metadata": {
        "hidden": true,
        "trusted": true
      },
      "execution_count": 1,
      "outputs": [],
      "id": "3dc7e8d5"
    },
    {
      "cell_type": "code",
      "source": "# Вивід таблиці відповідності кодів типів даних в NumPy\nimport pandas as pd\ndtypes = pd.DataFrame(\n    {\n        'Type': ['int8', 'uint8', 'int16', 'uint16', 'int32', 'uint32', 'int64', 'uint64', 'float16', 'float32', 'float64', 'float128', 'complex64', 'complex128', 'bool', 'object', 'string_', 'unicode_'],\n        'Type Code': ['i1', 'u1', 'i2', 'u2', 'i4', 'u4', 'i8', 'u8', 'f2', 'f4 or f', 'f8 or d', 'f16 or g', 'c8', 'c16', '', 'O', 'S', 'U']\n    }\n)\n\ndtypes",
      "metadata": {
        "code_folding": [],
        "hidden": true,
        "trusted": true
      },
      "execution_count": 2,
      "outputs": [
        {
          "name": "stderr",
          "text": "/lib/python3.9/site-packages/pandas/compat/__init__.py:124: UserWarning: Could not import the lzma module. Your installed Python is incomplete. Attempting to use lzma compression will result in a RuntimeError.\n  warnings.warn(msg)\n",
          "output_type": "stream"
        },
        {
          "execution_count": 2,
          "output_type": "execute_result",
          "data": {
            "text/plain": "          Type Type Code\n0         int8        i1\n1        uint8        u1\n2        int16        i2\n3       uint16        u2\n4        int32        i4\n5       uint32        u4\n6        int64        i8\n7       uint64        u8\n8      float16        f2\n9      float32   f4 or f\n10     float64   f8 or d\n11    float128  f16 or g\n12   complex64        c8\n13  complex128       c16\n14        bool          \n15      object         O\n16     string_         S\n17    unicode_         U",
            "text/html": "<div>\n<style scoped>\n    .dataframe tbody tr th:only-of-type {\n        vertical-align: middle;\n    }\n\n    .dataframe tbody tr th {\n        vertical-align: top;\n    }\n\n    .dataframe thead th {\n        text-align: right;\n    }\n</style>\n<table border=\"1\" class=\"dataframe\">\n  <thead>\n    <tr style=\"text-align: right;\">\n      <th></th>\n      <th>Type</th>\n      <th>Type Code</th>\n    </tr>\n  </thead>\n  <tbody>\n    <tr>\n      <th>0</th>\n      <td>int8</td>\n      <td>i1</td>\n    </tr>\n    <tr>\n      <th>1</th>\n      <td>uint8</td>\n      <td>u1</td>\n    </tr>\n    <tr>\n      <th>2</th>\n      <td>int16</td>\n      <td>i2</td>\n    </tr>\n    <tr>\n      <th>3</th>\n      <td>uint16</td>\n      <td>u2</td>\n    </tr>\n    <tr>\n      <th>4</th>\n      <td>int32</td>\n      <td>i4</td>\n    </tr>\n    <tr>\n      <th>5</th>\n      <td>uint32</td>\n      <td>u4</td>\n    </tr>\n    <tr>\n      <th>6</th>\n      <td>int64</td>\n      <td>i8</td>\n    </tr>\n    <tr>\n      <th>7</th>\n      <td>uint64</td>\n      <td>u8</td>\n    </tr>\n    <tr>\n      <th>8</th>\n      <td>float16</td>\n      <td>f2</td>\n    </tr>\n    <tr>\n      <th>9</th>\n      <td>float32</td>\n      <td>f4 or f</td>\n    </tr>\n    <tr>\n      <th>10</th>\n      <td>float64</td>\n      <td>f8 or d</td>\n    </tr>\n    <tr>\n      <th>11</th>\n      <td>float128</td>\n      <td>f16 or g</td>\n    </tr>\n    <tr>\n      <th>12</th>\n      <td>complex64</td>\n      <td>c8</td>\n    </tr>\n    <tr>\n      <th>13</th>\n      <td>complex128</td>\n      <td>c16</td>\n    </tr>\n    <tr>\n      <th>14</th>\n      <td>bool</td>\n      <td></td>\n    </tr>\n    <tr>\n      <th>15</th>\n      <td>object</td>\n      <td>O</td>\n    </tr>\n    <tr>\n      <th>16</th>\n      <td>string_</td>\n      <td>S</td>\n    </tr>\n    <tr>\n      <th>17</th>\n      <td>unicode_</td>\n      <td>U</td>\n    </tr>\n  </tbody>\n</table>\n</div>"
          },
          "metadata": {}
        }
      ],
      "id": "e7bd3f03"
    },
    {
      "cell_type": "markdown",
      "source": "## 1. Створення та інспектування _np-массивів_",
      "metadata": {
        "heading_collapsed": true
      },
      "id": "033f297c"
    },
    {
      "cell_type": "markdown",
      "source": "### ПРИКЛАДИ",
      "metadata": {
        "hidden": true
      },
      "id": "a355eb26"
    },
    {
      "cell_type": "code",
      "source": "# Створити 1-вимірний масив з 5 цілочисельних елементів \narr = np.array([23, 42, 13, 7, 0])",
      "metadata": {
        "hidden": true,
        "trusted": true
      },
      "execution_count": 3,
      "outputs": [],
      "id": "ad005f08"
    },
    {
      "cell_type": "code",
      "source": "# Інспектування массива\nnp.info(arr)",
      "metadata": {
        "hidden": true,
        "trusted": true
      },
      "execution_count": 4,
      "outputs": [],
      "id": "223b11eb"
    },
    {
      "cell_type": "code",
      "source": "# створити 2-мірний масив з цілим типом даних у 2-х байтовому форматі\narr = np.array([[1,2,3], [4,5,6]], dtype='i2')\nprint(arr)",
      "metadata": {
        "hidden": true,
        "trusted": true
      },
      "execution_count": 5,
      "outputs": [
        {
          "name": "stdout",
          "text": "[[1 2 3]\n [4 5 6]]\n",
          "output_type": "stream"
        }
      ],
      "id": "be71cde5"
    },
    {
      "cell_type": "code",
      "source": "# створити масив із  значень в інтервалі 0 - 20 з кроком 2\n# np.arange(start, stop, step)\narr = np.arange(0, 20, 2)  \nprint(arr)",
      "metadata": {
        "hidden": true,
        "trusted": true
      },
      "execution_count": 6,
      "outputs": [
        {
          "name": "stdout",
          "text": "[ 0  2  4  6  8 10 12 14 16 18]\n",
          "output_type": "stream"
        }
      ],
      "id": "069cfeea"
    },
    {
      "cell_type": "code",
      "source": "# створити масив із 20 рівномірно розміщених значень в інтервалі 0 - 10 \n# np.linspace(start, stop, num_of_elements) \narr = np.linspace(0, 10, 20)\nprint(arr)",
      "metadata": {
        "hidden": true,
        "trusted": true
      },
      "execution_count": 7,
      "outputs": [
        {
          "name": "stdout",
          "text": "[ 0.          0.52631579  1.05263158  1.57894737  2.10526316  2.63157895\n  3.15789474  3.68421053  4.21052632  4.73684211  5.26315789  5.78947368\n  6.31578947  6.84210526  7.36842105  7.89473684  8.42105263  8.94736842\n  9.47368421 10.        ]\n",
          "output_type": "stream"
        }
      ],
      "id": "bca6baaa"
    },
    {
      "cell_type": "code",
      "source": "# створити масив 3х3 випадкових значень \narr = np.random.rand(3, 3)\nprint(arr)",
      "metadata": {
        "hidden": true,
        "trusted": true
      },
      "execution_count": 8,
      "outputs": [
        {
          "name": "stdout",
          "text": "[[0.54388676 0.67377839 0.12481944]\n [0.93037913 0.3061238  0.14291677]\n [0.77576501 0.23693199 0.2399936 ]]\n",
          "output_type": "stream"
        }
      ],
      "id": "d4531bf7"
    },
    {
      "cell_type": "code",
      "source": "# створення нульвих, одиничних та заповнених масивів\nzeros = np.zeros((2,3), dtype='i4')\nprint(zeros)\nones = np.ones((2,3))\nprint(ones)\nfilled = np.full((2,3), 123)\nprint(filled)",
      "metadata": {
        "hidden": true,
        "trusted": true
      },
      "execution_count": 9,
      "outputs": [
        {
          "name": "stdout",
          "text": "[[0 0 0]\n [0 0 0]]\n[[1. 1. 1.]\n [1. 1. 1.]]\n[[123 123 123]\n [123 123 123]]\n",
          "output_type": "stream"
        }
      ],
      "id": "bfcfaf8d"
    },
    {
      "cell_type": "code",
      "source": "print(arr, end=\"\\n...\\n\")\n# інспектування типу массиву `dtype`\nprint(arr.dtype)\n# інспектування розмірності массиву `shape`\nprint(arr.shape)\n# інспектування довжини масиву `len`\nprint(len(arr))\n# інспектування кількості вимірів масиву `ndim`\nprint(arr.ndim)\n# інспектування кількості елементів в масиві `size`\nprint(arr.size)\n# інспектування коількості байтів на елемент `itemsize`\nprint(arr.itemsize)\n# інспектування кількості пам'яти під масив `nbytes`\nprint(arr.nbytes)",
      "metadata": {
        "hidden": true,
        "scrolled": true,
        "trusted": true
      },
      "execution_count": 10,
      "outputs": [
        {
          "name": "stdout",
          "text": "[[0.54388676 0.67377839 0.12481944]\n [0.93037913 0.3061238  0.14291677]\n [0.77576501 0.23693199 0.2399936 ]]\n...\nfloat64\n(3, 3)\n3\n2\n9\n8\n72\n",
          "output_type": "stream"
        }
      ],
      "id": "c2602c56"
    },
    {
      "cell_type": "code",
      "source": "arr.__sizeof__()",
      "metadata": {
        "hidden": true,
        "trusted": true
      },
      "execution_count": 11,
      "outputs": [
        {
          "execution_count": 11,
          "output_type": "execute_result",
          "data": {
            "text/plain": "132"
          },
          "metadata": {}
        }
      ],
      "id": "042b3daf"
    },
    {
      "cell_type": "markdown",
      "source": "### ЗАВДАННЯ 1",
      "metadata": {
        "hidden": true
      },
      "id": "4953e355"
    },
    {
      "cell_type": "code",
      "source": "### ЗАВДАННЯ 1.1: створити та проінспектувати масив 3х4 з ім'ям arr1_1, який містить числа з плавоючою точкою \narr1_1 = arr = np.random.rand(3, 4)\nprint(arr1_1)\nnp.info(arr)",
      "metadata": {
        "hidden": true,
        "trusted": true
      },
      "execution_count": 13,
      "outputs": [
        {
          "name": "stdout",
          "text": "[[ 1.2   2.1   3.5   2.4 ]\n [ 4.4   5.7   6.8   3.8 ]\n [ 2.5  22.5   2.21  5.3 ]]\n",
          "output_type": "stream"
        }
      ],
      "id": "7cadc1c0"
    },
    {
      "cell_type": "code",
      "source": "### ЗАВДАННЯ 1.2: створити одномірний масив з 5 строкових елементів\narr1_2 = np.array(['Перший','Другий','Третій','Четвертий','П`ятий'])\nprint(arr1_2)",
      "metadata": {
        "hidden": true,
        "trusted": true
      },
      "execution_count": 17,
      "outputs": [
        {
          "name": "stdout",
          "text": "['Перший' 'Другий' 'Третій' 'Четвертий' 'П`ятий']\n",
          "output_type": "stream"
        }
      ],
      "id": "3c60b406"
    },
    {
      "cell_type": "code",
      "source": "### ЗАВДАННЯ 1.3: створити одиничний масив 3х4 чисел з плаваючою точкою\narr1_3 = ones = np.ones((3,4), dtype='f')\nprint(arr1_3)",
      "metadata": {
        "hidden": true,
        "trusted": true
      },
      "execution_count": 18,
      "outputs": [
        {
          "name": "stdout",
          "text": "[[1. 1. 1. 1.]\n [1. 1. 1. 1.]\n [1. 1. 1. 1.]]\n",
          "output_type": "stream"
        }
      ],
      "id": "88d0de53"
    },
    {
      "cell_type": "markdown",
      "source": "## 2. Перетворення форми та типу массивів",
      "metadata": {},
      "id": "764fa688"
    },
    {
      "cell_type": "markdown",
      "source": "### ПРИКЛАДИ",
      "metadata": {
        "heading_collapsed": true
      },
      "id": "1c82d0ed"
    },
    {
      "cell_type": "code",
      "source": "# створити 2-мірний float-масив (2х5) з лінійного int-списка \nspisok = list(range(0,10))\narr = np.array(spisok)\nprint(arr)",
      "metadata": {
        "hidden": true,
        "scrolled": true,
        "trusted": true
      },
      "execution_count": 19,
      "outputs": [
        {
          "name": "stdout",
          "text": "[0 1 2 3 4 5 6 7 8 9]\n",
          "output_type": "stream"
        }
      ],
      "id": "953c93f0"
    },
    {
      "cell_type": "code",
      "source": "#преретворити форму масива `reshape` \narr = arr.reshape((2,5))\nprint(arr)\nprint(arr.dtype)",
      "metadata": {
        "hidden": true,
        "trusted": true
      },
      "execution_count": 20,
      "outputs": [
        {
          "name": "stdout",
          "text": "[[0 1 2 3 4]\n [5 6 7 8 9]]\nint32\n",
          "output_type": "stream"
        }
      ],
      "id": "3bb56531"
    },
    {
      "cell_type": "code",
      "source": "# -- 3 перетворити тип масива `astype`\narr = arr.astype('float64')\nprint(arr)\nprint(arr.dtype)",
      "metadata": {
        "hidden": true,
        "trusted": true
      },
      "execution_count": 21,
      "outputs": [
        {
          "name": "stdout",
          "text": "[[0. 1. 2. 3. 4.]\n [5. 6. 7. 8. 9.]]\nfloat64\n",
          "output_type": "stream"
        }
      ],
      "id": "07cdda37"
    },
    {
      "cell_type": "code",
      "source": "# 'вирівняти' 2-мірний масив\narr = arr.flatten()\nprint(arr)",
      "metadata": {
        "hidden": true,
        "scrolled": true,
        "trusted": true
      },
      "execution_count": 22,
      "outputs": [
        {
          "name": "stdout",
          "text": "[0. 1. 2. 3. 4. 5. 6. 7. 8. 9.]\n",
          "output_type": "stream"
        }
      ],
      "id": "877770f4"
    },
    {
      "cell_type": "markdown",
      "source": "### ЗАВДАННЯ 2",
      "metadata": {
        "heading_collapsed": true
      },
      "id": "dcb3100f"
    },
    {
      "cell_type": "code",
      "source": "### ЗАВДАННЯ 2.1: створити 3-мірний масив (3х1х3) логічного 'False'\narr2_1 = np.full((3,1,3), False)\nprint(arr2_1)",
      "metadata": {
        "hidden": true,
        "trusted": true
      },
      "execution_count": 23,
      "outputs": [
        {
          "name": "stdout",
          "text": "[[[False False False]]\n\n [[False False False]]\n\n [[False False False]]]\n",
          "output_type": "stream"
        }
      ],
      "id": "4f1638f6"
    },
    {
      "cell_type": "code",
      "source": "### ЗАВДАННЯ 2.2: перетворити масив arr2_1 в 2-мірний масив (3х3) типу int\narr2_2 = arr2_1.reshape((3,3))\narr2_2 = arr2_2.astype('i1')\nprint(arr2_2)",
      "metadata": {
        "hidden": true,
        "trusted": true
      },
      "execution_count": 25,
      "outputs": [
        {
          "name": "stdout",
          "text": "[[0 0 0]\n [0 0 0]\n [0 0 0]]\n",
          "output_type": "stream"
        }
      ],
      "id": "1c1012f9"
    },
    {
      "cell_type": "code",
      "source": "### ЗАВДАННЯ 2.3: створити  2-мірний масив парних чисел в інтервалі 10-21\narr2_3 = np.arange(10, 21, 2)\narr2_3 = arr2_3.reshape((2,3))\nprint(arr2_3)",
      "metadata": {
        "hidden": true,
        "trusted": true
      },
      "execution_count": 34,
      "outputs": [
        {
          "name": "stdout",
          "text": "[[10 12 14]\n [16 18 20]]\n",
          "output_type": "stream"
        }
      ],
      "id": "a6d4dbf1"
    },
    {
      "cell_type": "markdown",
      "source": "## 3. Доступ до  елементів масива",
      "metadata": {
        "heading_collapsed": true
      },
      "id": "d2418105"
    },
    {
      "cell_type": "markdown",
      "source": "### ПРИКЛАДИ",
      "metadata": {
        "heading_collapsed": true,
        "hidden": true
      },
      "id": "eea944cf"
    },
    {
      "cell_type": "code",
      "source": "arr = np.array([10, 6, 7, 21, 44]) \nprint(arr)\n\n# 1-й елемент \nprint(arr[0])\n# 3-й елемент\nprint(arr[2])\n# останній елемент\nprint(arr[-1])",
      "metadata": {
        "hidden": true,
        "trusted": true
      },
      "execution_count": 35,
      "outputs": [
        {
          "name": "stdout",
          "text": "[10  6  7 21 44]\n10\n7\n44\n",
          "output_type": "stream"
        }
      ],
      "id": "5ff72006"
    },
    {
      "cell_type": "code",
      "source": "# створити 2-мірний масив з цілих чисел з інтервалу 10-50\narr = np.random.randint(10, 50, (4,4))\nprint(arr)",
      "metadata": {
        "hidden": true,
        "trusted": true
      },
      "execution_count": 36,
      "outputs": [
        {
          "name": "stdout",
          "text": "[[29 29 47 16]\n [24 20 21 33]\n [48 21 30 10]\n [25 37 13 48]]\n",
          "output_type": "stream"
        }
      ],
      "id": "002a1aff"
    },
    {
      "cell_type": "code",
      "source": "# отримати значення останнього елемента в 2 рядку\nel = arr[1, 3]\nprint(el)",
      "metadata": {
        "hidden": true,
        "trusted": true
      },
      "execution_count": 38,
      "outputs": [
        {
          "name": "stdout",
          "text": "33\n",
          "output_type": "stream"
        }
      ],
      "id": "8d9a60df"
    },
    {
      "cell_type": "code",
      "source": "# отримати значення останнього рядка\nvect = arr[3]\nprint(vect)",
      "metadata": {
        "hidden": true,
        "trusted": true
      },
      "execution_count": 40,
      "outputs": [
        {
          "name": "stdout",
          "text": "[25 37 13 48]\n",
          "output_type": "stream"
        }
      ],
      "id": "6285da26"
    },
    {
      "cell_type": "code",
      "source": "# отримати `зріз` з 1 по 2 рядок\nmat = arr[0:2]\nprint(mat)",
      "metadata": {
        "hidden": true,
        "trusted": true
      },
      "execution_count": 41,
      "outputs": [
        {
          "name": "stdout",
          "text": "[[29 29 47 16]\n [24 20 21 33]]\n",
          "output_type": "stream"
        }
      ],
      "id": "4f87fb55"
    },
    {
      "cell_type": "code",
      "source": "# вилучити 2 та 3 стовбчики `arr`\nmat = arr[0:4, 1:3]\nprint(mat)",
      "metadata": {
        "hidden": true,
        "trusted": true
      },
      "execution_count": 42,
      "outputs": [
        {
          "name": "stdout",
          "text": "[[29 47]\n [20 21]\n [21 30]\n [37 13]]\n",
          "output_type": "stream"
        }
      ],
      "id": "8ae673b1"
    },
    {
      "cell_type": "code",
      "source": "# вилучити непарні рядки `arr`\nmat = arr[0:4:2]\nprint(mat)",
      "metadata": {
        "hidden": true,
        "trusted": true
      },
      "execution_count": 43,
      "outputs": [
        {
          "name": "stdout",
          "text": "[[29 29 47 16]\n [48 21 30 10]]\n",
          "output_type": "stream"
        }
      ],
      "id": "eaee80a7"
    },
    {
      "cell_type": "code",
      "source": "# фільтрувати елементи масива за умовою\nels = arr[arr > 20]\nprint(els)",
      "metadata": {
        "hidden": true,
        "trusted": true
      },
      "execution_count": 44,
      "outputs": [
        {
          "name": "stdout",
          "text": "[29 29 47 24 21 33 48 21 30 25 37 48]\n",
          "output_type": "stream"
        }
      ],
      "id": "08a60d9d"
    },
    {
      "cell_type": "markdown",
      "source": "### ЗАВДАННЯ 3",
      "metadata": {
        "heading_collapsed": true,
        "hidden": true
      },
      "id": "972e034d"
    },
    {
      "cell_type": "code",
      "source": "### ЗАВДАННЯ 3.1: створити масив 4х5 нормально розподілений випадкових чисел 3 інтервалу [10 - 100]\narr3_1 =  np.random.randint(10, 100, (4,5))\nprint(arr3_1)",
      "metadata": {
        "hidden": true,
        "trusted": true
      },
      "execution_count": 45,
      "outputs": [
        {
          "name": "stdout",
          "text": "[[49 98 13 49 21]\n [50 56 10 58 72]\n [79 82 98 60 30]\n [67 52 58 27 46]]\n",
          "output_type": "stream"
        }
      ],
      "id": "aab8b56e"
    },
    {
      "cell_type": "code",
      "source": "### ЗАВДАННЯ 3.2:  вивести 3-елемент в 2-му рядку\nel3_2 = arr3_1[1, 2]\nprint(el3_2)",
      "metadata": {
        "hidden": true,
        "trusted": true
      },
      "execution_count": 48,
      "outputs": [
        {
          "name": "stdout",
          "text": "10\n",
          "output_type": "stream"
        }
      ],
      "id": "ea680bc0"
    },
    {
      "cell_type": "code",
      "source": "### ЗАВДАННЯ 3.3:  вивести 2-й рядок масива `arr3_1`\nvect3_3 = arr3_1[1,0:5]\nprint(vect3_3)",
      "metadata": {
        "hidden": true,
        "trusted": true
      },
      "execution_count": 51,
      "outputs": [
        {
          "name": "stdout",
          "text": "[50 56 10 58 72]\n",
          "output_type": "stream"
        }
      ],
      "id": "72b9576d"
    },
    {
      "cell_type": "code",
      "source": "### ЗАВДАННЯ 3.4:  вивести 3 колонку масива `arr3_1`\nvect3_4 = arr3_1[0:4,2]\nprint(vect3_4)",
      "metadata": {
        "hidden": true,
        "trusted": true
      },
      "execution_count": 52,
      "outputs": [
        {
          "name": "stdout",
          "text": "[13 10 98 58]\n",
          "output_type": "stream"
        }
      ],
      "id": "f5ce8562"
    },
    {
      "cell_type": "code",
      "source": "### ЗАВДАННЯ 3.5: вивести матрицю  з 2 та 3 рядка та 2 та 3 колонки масива `arr3_1`\nmat3_5 = arr3_1[1:3,1:3]\nprint(mat3_5)",
      "metadata": {
        "hidden": true,
        "trusted": true
      },
      "execution_count": 53,
      "outputs": [
        {
          "name": "stdout",
          "text": "[[56 10]\n [82 98]]\n",
          "output_type": "stream"
        }
      ],
      "id": "7cba7f34"
    },
    {
      "cell_type": "markdown",
      "source": "## 4. Матричні компоненти масива",
      "metadata": {
        "heading_collapsed": true
      },
      "id": "59ba0a73"
    },
    {
      "cell_type": "markdown",
      "source": "### ПРИКЛАДИ",
      "metadata": {
        "heading_collapsed": true,
        "hidden": true
      },
      "id": "15c89faf"
    },
    {
      "cell_type": "code",
      "source": "# створити одиничну матрицю розміру 3х3\nmat = np.eye(3)\nprint(mat)",
      "metadata": {
        "hidden": true,
        "trusted": true
      },
      "execution_count": 54,
      "outputs": [
        {
          "name": "stdout",
          "text": "[[1. 0. 0.]\n [0. 1. 0.]\n [0. 0. 1.]]\n",
          "output_type": "stream"
        }
      ],
      "id": "431f5106"
    },
    {
      "cell_type": "code",
      "source": "# створити матрицю із заданою диагоналлю\nmat = np.diag([1,2,3,4,5])\nprint(mat)",
      "metadata": {
        "hidden": true,
        "trusted": true
      },
      "execution_count": 55,
      "outputs": [
        {
          "name": "stdout",
          "text": "[[1 0 0 0 0]\n [0 2 0 0 0]\n [0 0 3 0 0]\n [0 0 0 4 0]\n [0 0 0 0 5]]\n",
          "output_type": "stream"
        }
      ],
      "id": "62184035"
    },
    {
      "cell_type": "code",
      "source": "# вилучити головну діагональ матриці `diag`\nmat = np.random.rand(5,5)\nprint(mat, end=\"\\n...\\n\")\nprint(np.diag(mat))",
      "metadata": {
        "hidden": true,
        "trusted": true
      },
      "execution_count": 56,
      "outputs": [
        {
          "name": "stdout",
          "text": "[[0.64901082 0.93521996 0.97758867 0.16893952 0.57021595]\n [0.15827643 0.70412151 0.35938592 0.470531   0.24736786]\n [0.81212633 0.18816653 0.07054949 0.84378048 0.10875636]\n [0.36757327 0.37007985 0.90611383 0.71300111 0.33205511]\n [0.26232948 0.92577106 0.83842565 0.7747385  0.25137474]]\n...\n[0.64901082 0.70412151 0.07054949 0.71300111 0.25137474]\n",
          "output_type": "stream"
        }
      ],
      "id": "db16d096"
    },
    {
      "cell_type": "code",
      "source": "# транспонувати матрицю `mat` (https://ru.wikipedia.org/wiki/Транспонированная_матрица)\nmT = np.transpose(mat)\nprint(mT)",
      "metadata": {
        "hidden": true,
        "trusted": true
      },
      "execution_count": 57,
      "outputs": [
        {
          "name": "stdout",
          "text": "[[0.64901082 0.15827643 0.81212633 0.36757327 0.26232948]\n [0.93521996 0.70412151 0.18816653 0.37007985 0.92577106]\n [0.97758867 0.35938592 0.07054949 0.90611383 0.83842565]\n [0.16893952 0.470531   0.84378048 0.71300111 0.7747385 ]\n [0.57021595 0.24736786 0.10875636 0.33205511 0.25137474]]\n",
          "output_type": "stream"
        }
      ],
      "id": "2dec7657"
    },
    {
      "cell_type": "code",
      "source": "# отримати детермінант матриці `det` (https://ru.wikipedia.org/wiki/Определитель)\nprint(np.linalg.det(mat))",
      "metadata": {
        "hidden": true,
        "trusted": true
      },
      "execution_count": 58,
      "outputs": [
        {
          "name": "stdout",
          "text": "0.06775972769541128\n",
          "output_type": "stream"
        }
      ],
      "id": "7cec4e03"
    },
    {
      "cell_type": "code",
      "source": "# отримати зворотню матриці `det` (https://ru.wikipedia.org/wiki/Обратная_матрица)\ninvM = np.linalg.inv(mat)\nprint(invM)",
      "metadata": {
        "hidden": true,
        "trusted": true
      },
      "execution_count": 59,
      "outputs": [
        {
          "name": "stdout",
          "text": "[[ 0.93844737 -2.09512773  1.0908892  -1.04510907  0.8415415 ]\n [ 0.31897774  0.05133594  0.03177295 -1.62860258  1.36348323]\n [ 0.28048251 -2.60139384 -0.40403832  0.34861874  1.63797974]\n [-0.99477122  1.40488592  0.24884778  0.95587421 -0.49629452]\n [-0.02370541  6.34409225 -0.67478037  2.97974493 -5.85524304]]\n",
          "output_type": "stream"
        }
      ],
      "id": "ee8d69c7"
    },
    {
      "cell_type": "markdown",
      "source": "### ЗАВАДАННЯ 4",
      "metadata": {
        "heading_collapsed": true,
        "hidden": true
      },
      "id": "ba00d798"
    },
    {
      "cell_type": "code",
      "source": "# ЗАВДАННЯ 4.1: створити квадратну матрицю з 36 рівномірно розподілених цілих \n# елементів з інтервалу 100 - 200\nmat4_1 = np.linspace(100, 200, 36)\nmat4_1 = mat4_1.reshape((6,6))\nprint(mat4_1)",
      "metadata": {
        "hidden": true,
        "trusted": true
      },
      "execution_count": 63,
      "outputs": [
        {
          "name": "stdout",
          "text": "[[100.         102.85714286 105.71428571 108.57142857 111.42857143\n  114.28571429]\n [117.14285714 120.         122.85714286 125.71428571 128.57142857\n  131.42857143]\n [134.28571429 137.14285714 140.         142.85714286 145.71428571\n  148.57142857]\n [151.42857143 154.28571429 157.14285714 160.         162.85714286\n  165.71428571]\n [168.57142857 171.42857143 174.28571429 177.14285714 180.\n  182.85714286]\n [185.71428571 188.57142857 191.42857143 194.28571429 197.14285714\n  200.        ]]\n",
          "output_type": "stream"
        }
      ],
      "id": "d5aa7c9e"
    },
    {
      "cell_type": "code",
      "source": "# ЗАВДАННЯ 4.2: вивести головну діагональ матниці `mat4_1`\ndiag4_2 = np.diag(mat4_1)\nprint(diag4_2)",
      "metadata": {
        "hidden": true,
        "trusted": true
      },
      "execution_count": 64,
      "outputs": [
        {
          "name": "stdout",
          "text": "[100. 120. 140. 160. 180. 200.]\n",
          "output_type": "stream"
        }
      ],
      "id": "447a05c2"
    },
    {
      "cell_type": "code",
      "source": "# ЗАВДАННЯ 4.3: транспонувати матрицю 'mat4_1'\ntrans4_3 =  np.transpose(mat4_1)\nprint(trans4_3)",
      "metadata": {
        "hidden": true,
        "trusted": true
      },
      "execution_count": 65,
      "outputs": [
        {
          "name": "stdout",
          "text": "[[100.         117.14285714 134.28571429 151.42857143 168.57142857\n  185.71428571]\n [102.85714286 120.         137.14285714 154.28571429 171.42857143\n  188.57142857]\n [105.71428571 122.85714286 140.         157.14285714 174.28571429\n  191.42857143]\n [108.57142857 125.71428571 142.85714286 160.         177.14285714\n  194.28571429]\n [111.42857143 128.57142857 145.71428571 162.85714286 180.\n  197.14285714]\n [114.28571429 131.42857143 148.57142857 165.71428571 182.85714286\n  200.        ]]\n",
          "output_type": "stream"
        }
      ],
      "id": "003c3c8b"
    },
    {
      "cell_type": "code",
      "source": "# ЗАВДАННЯ 4.4: вирахувати зворотню до 'mat4_1' матрицю \ninv4_4 = np.linalg.inv(mat4_1)\nprint(inv4_4)",
      "metadata": {
        "hidden": true,
        "trusted": true
      },
      "execution_count": 66,
      "outputs": [
        {
          "name": "stdout",
          "text": "[[ 6.78146846e+12 -1.38133889e+13 -6.95761050e+12  2.81214892e+13\n  -1.40239337e+13 -1.08024609e+11]\n [ 2.04148622e+13 -1.79141957e+13 -9.24745699e+12 -9.61006189e+12\n   1.65449666e+13 -1.88114192e+11]\n [ 2.72667875e+13 -8.20161364e+12 -4.57969299e+12 -4.02787301e+13\n  -9.23094368e+12  3.50241929e+13]\n [-1.63459811e+14  1.66630368e+14  5.07289069e+13 -1.66454226e+13\n   3.18817089e+13 -6.91357499e+13]\n [ 1.29552469e+14 -1.67932168e+14 -1.59408544e+13  5.19598370e+13\n  -3.21307847e+13  3.44915009e+13]\n [-2.05557758e+13  4.12309980e+13 -1.40032920e+13 -1.35471117e+13\n   6.95898661e+12 -8.38050790e+10]]\n",
          "output_type": "stream"
        }
      ],
      "id": "0d05994a"
    },
    {
      "cell_type": "markdown",
      "source": "## 5. Операції над масивами",
      "metadata": {
        "heading_collapsed": true
      },
      "id": "836e63ef"
    },
    {
      "cell_type": "markdown",
      "source": "### ПРИКЛАДИ",
      "metadata": {
        "heading_collapsed": true,
        "hidden": true
      },
      "id": "d1ed164b"
    },
    {
      "cell_type": "code",
      "source": "# задати вектор з 10 елементів\nvect = np.array([1, 3, 2, -3, 5, 0])",
      "metadata": {
        "hidden": true,
        "trusted": true
      },
      "execution_count": 67,
      "outputs": [],
      "id": "526be685"
    },
    {
      "cell_type": "code",
      "source": "# вирахувати суму елеметнів\ns = np.sum(vect)\n\n# знайти мінімальний ел-т\nm = np.min(vect)\n\n# відсортувати вектор по зростанню\nvs = np.sort(vect)\n\n# знайти середнє значення\nmid = np.average(vect)\n...",
      "metadata": {
        "hidden": true,
        "trusted": true
      },
      "execution_count": 68,
      "outputs": [
        {
          "execution_count": 68,
          "output_type": "execute_result",
          "data": {
            "text/plain": "Ellipsis"
          },
          "metadata": {}
        }
      ],
      "id": "841d8832"
    },
    {
      "cell_type": "code",
      "source": "# матриця 3х4 сконструйована різними методами\nmat = np.array([np.arange(1,4), [-2, 4, 6], np.full(3,77)])\nprint(mat)",
      "metadata": {
        "hidden": true,
        "trusted": true
      },
      "execution_count": 69,
      "outputs": [
        {
          "name": "stdout",
          "text": "[[ 1  2  3]\n [-2  4  6]\n [77 77 77]]\n",
          "output_type": "stream"
        }
      ],
      "id": "e93a77e7"
    },
    {
      "cell_type": "code",
      "source": "# сума по колонкам `axis=0`\ns = np.sum(mat, axis=0)\nprint(s)",
      "metadata": {
        "hidden": true,
        "trusted": true
      },
      "execution_count": 70,
      "outputs": [
        {
          "name": "stdout",
          "text": "[76 83 86]\n",
          "output_type": "stream"
        }
      ],
      "id": "12515cb2"
    },
    {
      "cell_type": "code",
      "source": "# мінімум по рядкам\nm = np.min(mat, axis=1)\nprint(m)",
      "metadata": {
        "hidden": true,
        "trusted": true
      },
      "execution_count": 71,
      "outputs": [
        {
          "name": "stdout",
          "text": "[ 1 -2 77]\n",
          "output_type": "stream"
        }
      ],
      "id": "1f559e9d"
    },
    {
      "cell_type": "code",
      "source": "# збільшити ел-ти масива вдвічі\nv2 = mat * 2\nprint(v2)",
      "metadata": {
        "hidden": true,
        "trusted": true
      },
      "execution_count": 72,
      "outputs": [
        {
          "name": "stdout",
          "text": "[[  2   4   6]\n [ -4   8  12]\n [154 154 154]]\n",
          "output_type": "stream"
        }
      ],
      "id": "d4fd582d"
    },
    {
      "cell_type": "code",
      "source": "M = np.array([[1,2,3],[4,-3,6],[7,8,0]])\nN = np.array([[1,1,1],[2,2,2],[3,3,3]])\nprint(M, N, sep=\"\\n\")",
      "metadata": {
        "hidden": true,
        "trusted": true
      },
      "execution_count": 73,
      "outputs": [
        {
          "name": "stdout",
          "text": "[[ 1  2  3]\n [ 4 -3  6]\n [ 7  8  0]]\n[[1 1 1]\n [2 2 2]\n [3 3 3]]\n",
          "output_type": "stream"
        }
      ],
      "id": "4aefcf63"
    },
    {
      "cell_type": "code",
      "source": "# перемножити елементи матриць M, N\nK = M * N\nprint(K)\n# або ->\nK = np.multiply(N, M)\nprint(K)",
      "metadata": {
        "hidden": true,
        "trusted": true
      },
      "execution_count": 74,
      "outputs": [
        {
          "name": "stdout",
          "text": "[[ 1  2  3]\n [ 8 -6 12]\n [21 24  0]]\n[[ 1  2  3]\n [ 8 -6 12]\n [21 24  0]]\n",
          "output_type": "stream"
        }
      ],
      "id": "c97502a9"
    },
    {
      "cell_type": "code",
      "source": "# поелементний поділ\nK = N / M\nprint(K)",
      "metadata": {
        "hidden": true,
        "trusted": true
      },
      "execution_count": 75,
      "outputs": [
        {
          "name": "stdout",
          "text": "[[ 1.          0.5         0.33333333]\n [ 0.5        -0.66666667  0.33333333]\n [ 0.42857143  0.375              inf]]\n",
          "output_type": "stream"
        }
      ],
      "id": "4c6573ad"
    },
    {
      "cell_type": "code",
      "source": "# скалярне множення матриць (https://ru.wikipedia.org/wiki/Умножение_матриц)\nprod = np.dot(N, M)\nprint(prod)",
      "metadata": {
        "hidden": true,
        "trusted": true
      },
      "execution_count": 76,
      "outputs": [
        {
          "name": "stdout",
          "text": "[[12  7  9]\n [24 14 18]\n [36 21 27]]\n",
          "output_type": "stream"
        }
      ],
      "id": "cdd63170"
    },
    {
      "cell_type": "code",
      "source": "# возвести матрицю `prod` в ступінь 3\npmat = np.linalg.matrix_power(prod, 3)\nprint(pmat)",
      "metadata": {
        "hidden": true,
        "trusted": true
      },
      "execution_count": 77,
      "outputs": [
        {
          "name": "stdout",
          "text": "[[ 33708  19663  25281]\n [ 67416  39326  50562]\n [101124  58989  75843]]\n",
          "output_type": "stream"
        }
      ],
      "id": "b82fe63f"
    },
    {
      "cell_type": "code",
      "source": "# додати елементи до 1-вимірного масива\nmat = np.array([1,2,3])\nmat = np.append(mat, [5,6,7,8])\nprint(mat)",
      "metadata": {
        "hidden": true,
        "trusted": true
      },
      "execution_count": 78,
      "outputs": [
        {
          "name": "stdout",
          "text": "[1 2 3 5 6 7 8]\n",
          "output_type": "stream"
        }
      ],
      "id": "f953fc44"
    },
    {
      "cell_type": "code",
      "source": "# вставити елемент `4` в масив після 3-го елемента\nmat = np.insert(mat, 3, 4)\nprint(mat)",
      "metadata": {
        "hidden": true,
        "trusted": true
      },
      "execution_count": 79,
      "outputs": [
        {
          "name": "stdout",
          "text": "[1 2 3 4 5 6 7 8]\n",
          "output_type": "stream"
        }
      ],
      "id": "db3cc1b6"
    },
    {
      "cell_type": "code",
      "source": "# видалити елемент з індексом 6\nmat = np.delete(mat, 6)\nprint(mat)",
      "metadata": {
        "hidden": true,
        "trusted": true
      },
      "execution_count": 80,
      "outputs": [
        {
          "name": "stdout",
          "text": "[1 2 3 4 5 6 8]\n",
          "output_type": "stream"
        }
      ],
      "id": "fe415a92"
    },
    {
      "cell_type": "code",
      "source": "#  копіювання та присвоювання масивів\nM = np.random.randint(1, 10, 5 )\nprint(M)\n\n# присвоїти масив `M` в `N`\nN = M\nprint(N)\nprint(id(M), id(N))\n\n# копіювати масив `M` в `K`\nK = np.copy(M)\nprint(K)\nprint(id(M), id(K))",
      "metadata": {
        "hidden": true,
        "trusted": true
      },
      "execution_count": 81,
      "outputs": [
        {
          "name": "stdout",
          "text": "[9 1 5 4 2]\n[9 1 5 4 2]\n61364064 61364064\n[9 1 5 4 2]\n61364064 73458352\n",
          "output_type": "stream"
        }
      ],
      "id": "d4aaf37b"
    },
    {
      "cell_type": "code",
      "source": "# конкатенація масивів по рядкам\narr1 = np.array([[1,2,3,4], [1,2,3,4]])\narr2 = np.array([[5,6,7,8], [5,6,7,8]])\narr3 = np.concatenate((arr1, arr2), axis=0)\nprint(arr3)\n# по колонкам `axis = 1`\narr4 = np.concatenate((arr1, arr2), axis=1)\nprint(arr4)",
      "metadata": {
        "hidden": true,
        "trusted": true
      },
      "execution_count": 82,
      "outputs": [
        {
          "name": "stdout",
          "text": "[[1 2 3 4]\n [1 2 3 4]\n [5 6 7 8]\n [5 6 7 8]]\n[[1 2 3 4 5 6 7 8]\n [1 2 3 4 5 6 7 8]]\n",
          "output_type": "stream"
        }
      ],
      "id": "f4c1dea4"
    },
    {
      "cell_type": "markdown",
      "source": "### ЗАВДАННЯ 5",
      "metadata": {
        "heading_collapsed": true,
        "hidden": true
      },
      "id": "c97162c9"
    },
    {
      "cell_type": "code",
      "source": "# ЗАВДАННЯ 5.1: просумувати по рядкам масив випадкових чисел розмірностю 3х4\nmat5_1 = np.random.rand(3, 4)\nsum_mat5_1 = np.sum(mat5_1, axis=1)\nprint(mat5_1)\nprint(sum_mat5_1)",
      "metadata": {
        "hidden": true,
        "trusted": true
      },
      "execution_count": 85,
      "outputs": [
        {
          "name": "stdout",
          "text": "[[0.35072017 0.45531642 0.91932029 0.38921208]\n [0.52615416 0.96548615 0.87513229 0.87650472]\n [0.55805707 0.37118427 0.42440196 0.58551593]]\n[2.11456895 3.24327731 1.93915924]\n",
          "output_type": "stream"
        }
      ],
      "id": "966132ea"
    },
    {
      "cell_type": "code",
      "source": "# ЗАВДАННЯ 5.2: знайти мінімальний елемент матриці `sum_mat5_1`\nmin_mat5_1 = np.min(mat5_1)\nprint(min_mat5_1)",
      "metadata": {
        "hidden": true,
        "trusted": true
      },
      "execution_count": 86,
      "outputs": [
        {
          "name": "stdout",
          "text": "0.35072017288722224\n",
          "output_type": "stream"
        }
      ],
      "id": "622455c1"
    },
    {
      "cell_type": "code",
      "source": "# ЗАВДАННЯ 5.3: створити масив додавши до елементів `mat5_1`  число 100\nmat5_3 = mat5_1+100\nprint(mat5_3)",
      "metadata": {
        "hidden": true,
        "trusted": true
      },
      "execution_count": 87,
      "outputs": [
        {
          "name": "stdout",
          "text": "[[100.35072017 100.45531642 100.91932029 100.38921208]\n [100.52615416 100.96548615 100.87513229 100.87650472]\n [100.55805707 100.37118427 100.42440196 100.58551593]]\n",
          "output_type": "stream"
        }
      ],
      "id": "31f50295"
    },
    {
      "cell_type": "code",
      "source": "# ЗАВДАННЯ 5.4: помножити матрицю `mat5_1` на головну діагональ матриці `mat5_3`\nmat5_4 = np.dot(mat5_1,np.diag(mat5_3))\nprint(mat5_4) #виконання не можливе через те, що матриця не квадратна, головна діагональ має інший розмір",
      "metadata": {
        "hidden": true,
        "trusted": true
      },
      "execution_count": 89,
      "outputs": [
        {
          "ename": "<class 'ValueError'>",
          "evalue": "shapes (3,4) and (3,) not aligned: 4 (dim 1) != 3 (dim 0)",
          "traceback": [
            "\u001b[0;31m---------------------------------------------------------------------------\u001b[0m",
            "\u001b[0;31mValueError\u001b[0m                                Traceback (most recent call last)",
            "Input \u001b[0;32mIn [89]\u001b[0m, in \u001b[0;36m<cell line: 2>\u001b[0;34m()\u001b[0m\n\u001b[1;32m      1\u001b[0m \u001b[38;5;66;03m# ЗАВДАННЯ 5.4: помножити матрицю `mat5_1` на головну діагональ матриці `mat5_3`\u001b[39;00m\n\u001b[0;32m----> 2\u001b[0m mat5_4 \u001b[38;5;241m=\u001b[39m \u001b[43mnp\u001b[49m\u001b[38;5;241;43m.\u001b[39;49m\u001b[43mdot\u001b[49m\u001b[43m(\u001b[49m\u001b[43mmat5_1\u001b[49m\u001b[43m,\u001b[49m\u001b[43mnp\u001b[49m\u001b[38;5;241;43m.\u001b[39;49m\u001b[43mdiag\u001b[49m\u001b[43m(\u001b[49m\u001b[43mmat5_3\u001b[49m\u001b[43m)\u001b[49m\u001b[43m)\u001b[49m\n\u001b[1;32m      3\u001b[0m \u001b[38;5;28mprint\u001b[39m(mat5_4)\n",
            "File \u001b[0;32m<__array_function__ internals>:5\u001b[0m, in \u001b[0;36mdot\u001b[0;34m(*args, **kwargs)\u001b[0m\n",
            "\u001b[0;31mValueError\u001b[0m: shapes (3,4) and (3,) not aligned: 4 (dim 1) != 3 (dim 0)"
          ],
          "output_type": "error"
        }
      ],
      "id": "92665601"
    },
    {
      "cell_type": "code",
      "source": "# ЗАВДАННЯ 5.5: додати справа до матриці `mat5_3` матрицю `mat5_4` \n# вивести ранг отриманої матриці\nmat5_5 = np.concatenate((mat5_3, mat5_1), axis=1) #через відсутність матриці mat5_4 використаємо матрицю mat5_1\nprint(mat5_5)\nprint('rank =',np.linalg.matrix_rank(mat5_5))",
      "metadata": {
        "hidden": true,
        "trusted": true
      },
      "execution_count": 92,
      "outputs": [
        {
          "name": "stdout",
          "text": "[[100.35072017 100.45531642 100.91932029 100.38921208   0.35072017\n    0.45531642   0.91932029   0.38921208]\n [100.52615416 100.96548615 100.87513229 100.87650472   0.52615416\n    0.96548615   0.87513229   0.87650472]\n [100.55805707 100.37118427 100.42440196 100.58551593   0.55805707\n    0.37118427   0.42440196   0.58551593]]\nrank = 3\n",
          "output_type": "stream"
        }
      ],
      "id": "eccfcadf"
    },
    {
      "cell_type": "code",
      "source": "",
      "metadata": {},
      "execution_count": null,
      "outputs": [],
      "id": "1bf6ba94-a551-420d-987b-a40a5e11ae1d"
    }
  ]
}